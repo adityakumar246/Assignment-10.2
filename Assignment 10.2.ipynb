{
 "cells": [
  {
   "cell_type": "markdown",
   "metadata": {},
   "source": [
    "QUESTION"
   ]
  },
  {
   "cell_type": "markdown",
   "metadata": {},
   "source": [
    "In this assignment, students will be using the K-nearest neighbors algorithm to predict\n",
    "how many points NBA players scored in the 2013-2014 season.\n",
    "A look at the data\n",
    "Before we dive into the algorithm, letâ€TMs take a look at our data. Each row in the data\n",
    "contains information on how a player performed in the 2013-2014 NBA season.\n",
    "Download 'nba_2013.csv' file from this link:\n",
    "https://www.dropbox.com/s/b3nv38jjo5dxcl6/nba_2013.csv?dl=0\n",
    "Here are some selected columns from the data:\n",
    "player - name of the player\n",
    "pos - the position of the player\n",
    "g - number of games the player was in\n",
    "gs - number of games the player started\n",
    "pts - total points the player scored\n",
    "There are many more columns in the data, mostly containing information about average\n",
    "player game performance over the course of the season. See this site for an explanation\n",
    "of the rest of them.\n",
    "We can read our dataset in and figure out which columns are present:\n",
    "\n",
    "import pandas\n",
    "with open(\"nba_2013.csv\", 'r') as csvfile:\n",
    "nba = pandas.read_csv(csvfile)"
   ]
  },
  {
   "cell_type": "markdown",
   "metadata": {},
   "source": [
    "ANSWER"
   ]
  },
  {
   "cell_type": "code",
   "execution_count": 2,
   "metadata": {},
   "outputs": [
    {
     "name": "stdout",
     "output_type": "stream",
     "text": [
      "92.90340594268096\n"
     ]
    }
   ],
   "source": [
    "import pandas as pd\n",
    "with open(\"nba_2013.csv\", 'r') as csvfile:\n",
    "    nba = pd.read_csv(csvfile)\n",
    "\n",
    "# Preprocessing\n",
    "#dropping null values\n",
    "nba=nba.dropna()\n",
    "\n",
    "import numpy as np\n",
    "# X and Y data split\n",
    "X=nba.iloc[:,0:28]\n",
    "y=nba.iloc[:,28].values\n",
    "\n",
    "# Encoding categorical data\n",
    "from sklearn.preprocessing import LabelEncoder, OneHotEncoder\n",
    "lblenc=LabelEncoder()\n",
    "X[\"player\"]=lblenc.fit_transform(X[\"player\"])\n",
    "X[\"pos\"]=lblenc.fit_transform(X[\"pos\"])\n",
    "X[\"bref_team_id\"]=lblenc.fit_transform(X[\"bref_team_id\"])\n",
    "\n",
    "# Train and Test data split\n",
    "from sklearn.model_selection import train_test_split\n",
    "X_train,X_test,y_train,y_test = train_test_split(X,y,test_size=0.2,random_state=0)\n",
    "\n",
    "# K nearest neibhour model\n",
    "from sklearn.neighbors import KNeighborsClassifier\n",
    "classifier=KNeighborsClassifier(n_neighbors=3, metric='minkowski',p=2).fit(X_train,y_train)\n",
    "\n",
    "#Prediction and acccuracy score\n",
    "y_pred = classifier.predict(X_test)\n",
    "from sklearn.metrics import confusion_matrix,r2_score\n",
    "cm=confusion_matrix(y_test,y_pred)\n",
    "rscore= r2_score(y_test,y_pred)\n",
    "print(rscore*100)"
   ]
  }
 ],
 "metadata": {
  "kernelspec": {
   "display_name": "Python 3",
   "language": "python",
   "name": "python3"
  },
  "language_info": {
   "codemirror_mode": {
    "name": "ipython",
    "version": 3
   },
   "file_extension": ".py",
   "mimetype": "text/x-python",
   "name": "python",
   "nbconvert_exporter": "python",
   "pygments_lexer": "ipython3",
   "version": "3.6.6"
  }
 },
 "nbformat": 4,
 "nbformat_minor": 2
}
